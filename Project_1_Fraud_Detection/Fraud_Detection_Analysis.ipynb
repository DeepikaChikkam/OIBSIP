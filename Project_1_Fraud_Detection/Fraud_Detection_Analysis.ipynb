{
  "nbformat": 4,
  "nbformat_minor": 0,
  "metadata": {
    "colab": {
      "provenance": []
    },
    "kernelspec": {
      "name": "python3",
      "display_name": "Python 3"
    },
    "language_info": {
      "name": "python"
    }
  },
  "cells": [
    {
      "cell_type": "markdown",
      "source": [
        "# 💳 Project 1: Credit Card Fraud Detection - Advanced Classification\n",
        "\n",
        "**Internship:** OASIS INFOBYTE Data Analytics Internship\n",
        "**Intern:** CHIKKAM DEEPIKA\n",
        "\n",
        "---\n",
        "\n",
        "### **Approach Highlights**\n",
        "\n",
        "This project focuses on three key areas essential for real-world fraud detection:\n",
        "\n",
        "1.  **Anomaly Detection:** Analyzing and compensating for the severe imbalance between normal and fraudulent cases (where fraud is $< 0.2\\%$ of total data).\n",
        "2.  **Feature Engineering:** Creating predictive time-based features from the raw data, such as the `Hour` of the transaction.\n",
        "3.  **Advanced Evaluation:** Using high-stakes metrics like **Precision, Recall, and AUC-PR** to properly assess the model's ability to minimize financial loss (Recalling as much fraud as possible).\n",
        "\n"
      ],
      "metadata": {
        "id": "TSmNerRSraIj"
      }
    },
    {
      "cell_type": "markdown",
      "source": [
        "### **2. Setup and Library Imports**\n",
        "\n",
        "To start, we load the essential Python tools for this project. We include standard libraries like `pandas` and `numpy` for data handling, `seaborn` and `matplotlib` for visualization, and core Machine Learning libraries like `sklearn` and `xgboost`. Crucially, we import `imblearn` to properly tackle the extreme data imbalance inherent in fraud detection."
      ],
      "metadata": {
        "id": "kIUv5JDuuUfe"
      }
    },
    {
      "cell_type": "code",
      "source": [
        "# Code Block 2: Setup and Library Imports\n",
        "\n",
        "# Install the essential library for handling imbalanced data\n",
        "!pip install imbalanced-learn\n",
        "\n",
        "# Core Data Handling and Math\n",
        "import pandas as pd\n",
        "import numpy as np\n",
        "\n",
        "# Visualization\n",
        "import matplotlib.pyplot as plt\n",
        "import seaborn as sns\n",
        "sns.set_style(\"whitegrid\")\n",
        "\n",
        "# Machine Learning and Evaluation Metrics\n",
        "from sklearn.model_selection import train_test_split\n",
        "from sklearn.linear_model import LogisticRegression\n",
        "from sklearn.metrics import confusion_matrix, classification_report, roc_auc_score, precision_recall_curve, auc\n",
        "from imblearn.over_sampling import SMOTE\n",
        "import xgboost as xgb\n",
        "\n",
        "print(\"All required libraries loaded successfully!\")"
      ],
      "metadata": {
        "colab": {
          "base_uri": "https://localhost:8080/"
        },
        "id": "Eo6NYDKAuS0o",
        "outputId": "e3d709f6-19fb-44fb-a9ef-02e809b04091"
      },
      "execution_count": null,
      "outputs": [
        {
          "output_type": "stream",
          "name": "stdout",
          "text": [
            "Requirement already satisfied: imbalanced-learn in /usr/local/lib/python3.12/dist-packages (0.14.0)\n",
            "Requirement already satisfied: numpy<3,>=1.25.2 in /usr/local/lib/python3.12/dist-packages (from imbalanced-learn) (2.0.2)\n",
            "Requirement already satisfied: scipy<2,>=1.11.4 in /usr/local/lib/python3.12/dist-packages (from imbalanced-learn) (1.16.2)\n",
            "Requirement already satisfied: scikit-learn<2,>=1.4.2 in /usr/local/lib/python3.12/dist-packages (from imbalanced-learn) (1.6.1)\n",
            "Requirement already satisfied: joblib<2,>=1.2.0 in /usr/local/lib/python3.12/dist-packages (from imbalanced-learn) (1.5.2)\n",
            "Requirement already satisfied: threadpoolctl<4,>=2.0.0 in /usr/local/lib/python3.12/dist-packages (from imbalanced-learn) (3.6.0)\n",
            "All required libraries loaded successfully!\n"
          ]
        }
      ]
    },
    {
      "cell_type": "markdown",
      "source": [
        "### **3. Accessing and Loading Data**\n",
        "\n",
        "Since the large dataset is stored as a compressed `.zip` file in Google Drive, we need to first **mount the Drive** to connect the notebook to the file. We then use a terminal command (`!unzip`) to quickly extract the `creditcard.csv` file into the active Colab environment, allowing us to load it into a Pandas DataFrame for analysis."
      ],
      "metadata": {
        "id": "_IwYZ7eTuj-H"
      }
    },
    {
      "cell_type": "code",
      "source": [
        "# Code Block 3: Mount Drive, Unzip, and Load Data\n",
        "\n",
        "# 1. Mount Google Drive\n",
        "from google.colab import drive\n",
        "drive.mount('/content/drive')\n",
        "\n",
        "# 2. Define the path to your RENAMED ZIP file\n",
        "zip_file_path = '/content/drive/MyDrive/OIBSIP_DATA/creditcard_data.zip'\n",
        "\n",
        "# 3. Unzip the file using a terminal command\n",
        "print(f\"Unzipping file from: {zip_file_path}\")\n",
        "!unzip -o \"{zip_file_path}\" -d /content/\n",
        "\n",
        "# 4. Check the content of the /content/ folder to confirm the CSV file name\n",
        "print(\"\\nChecking /content/ for the unzipped CSV file...\")\n",
        "!ls /content/\n",
        "\n",
        "# 5. Load the unzipped CSV file into a DataFrame\n",
        "df = pd.read_csv('/content/creditcard.csv')\n",
        "\n",
        "print(\"\\nData successfully loaded into DataFrame (df)!\")\n",
        "print(\"Dataset Head (First 5 rows):\")\n",
        "print(df.head())\n",
        "print(\"\\nDataset Information:\")\n",
        "df.info()"
      ],
      "metadata": {
        "colab": {
          "base_uri": "https://localhost:8080/"
        },
        "id": "SCRmfsWsv264",
        "outputId": "f82c5909-f2d2-4c4c-a743-25fda8727f34"
      },
      "execution_count": null,
      "outputs": [
        {
          "output_type": "stream",
          "name": "stdout",
          "text": [
            "Drive already mounted at /content/drive; to attempt to forcibly remount, call drive.mount(\"/content/drive\", force_remount=True).\n",
            "Unzipping file from: /content/drive/MyDrive/OIBSIP_DATA/creditcard_data.zip\n",
            "Archive:  /content/drive/MyDrive/OIBSIP_DATA/creditcard_data.zip\n",
            "  inflating: /content/creditcard.csv  \n",
            "\n",
            "Checking /content/ for the unzipped CSV file...\n",
            "creditcard.csv\tcreditcard.csv.zip  drive  sample_data\n",
            "\n",
            "Data successfully loaded into DataFrame (df)!\n",
            "Dataset Head (First 5 rows):\n",
            "   Time        V1        V2        V3        V4        V5        V6        V7  \\\n",
            "0   0.0 -1.359807 -0.072781  2.536347  1.378155 -0.338321  0.462388  0.239599   \n",
            "1   0.0  1.191857  0.266151  0.166480  0.448154  0.060018 -0.082361 -0.078803   \n",
            "2   1.0 -1.358354 -1.340163  1.773209  0.379780 -0.503198  1.800499  0.791461   \n",
            "3   1.0 -0.966272 -0.185226  1.792993 -0.863291 -0.010309  1.247203  0.237609   \n",
            "4   2.0 -1.158233  0.877737  1.548718  0.403034 -0.407193  0.095921  0.592941   \n",
            "\n",
            "         V8        V9  ...       V21       V22       V23       V24       V25  \\\n",
            "0  0.098698  0.363787  ... -0.018307  0.277838 -0.110474  0.066928  0.128539   \n",
            "1  0.085102 -0.255425  ... -0.225775 -0.638672  0.101288 -0.339846  0.167170   \n",
            "2  0.247676 -1.514654  ...  0.247998  0.771679  0.909412 -0.689281 -0.327642   \n",
            "3  0.377436 -1.387024  ... -0.108300  0.005274 -0.190321 -1.175575  0.647376   \n",
            "4 -0.270533  0.817739  ... -0.009431  0.798278 -0.137458  0.141267 -0.206010   \n",
            "\n",
            "        V26       V27       V28  Amount  Class  \n",
            "0 -0.189115  0.133558 -0.021053  149.62      0  \n",
            "1  0.125895 -0.008983  0.014724    2.69      0  \n",
            "2 -0.139097 -0.055353 -0.059752  378.66      0  \n",
            "3 -0.221929  0.062723  0.061458  123.50      0  \n",
            "4  0.502292  0.219422  0.215153   69.99      0  \n",
            "\n",
            "[5 rows x 31 columns]\n",
            "\n",
            "Dataset Information:\n",
            "<class 'pandas.core.frame.DataFrame'>\n",
            "RangeIndex: 284807 entries, 0 to 284806\n",
            "Data columns (total 31 columns):\n",
            " #   Column  Non-Null Count   Dtype  \n",
            "---  ------  --------------   -----  \n",
            " 0   Time    284807 non-null  float64\n",
            " 1   V1      284807 non-null  float64\n",
            " 2   V2      284807 non-null  float64\n",
            " 3   V3      284807 non-null  float64\n",
            " 4   V4      284807 non-null  float64\n",
            " 5   V5      284807 non-null  float64\n",
            " 6   V6      284807 non-null  float64\n",
            " 7   V7      284807 non-null  float64\n",
            " 8   V8      284807 non-null  float64\n",
            " 9   V9      284807 non-null  float64\n",
            " 10  V10     284807 non-null  float64\n",
            " 11  V11     284807 non-null  float64\n",
            " 12  V12     284807 non-null  float64\n",
            " 13  V13     284807 non-null  float64\n",
            " 14  V14     284807 non-null  float64\n",
            " 15  V15     284807 non-null  float64\n",
            " 16  V16     284807 non-null  float64\n",
            " 17  V17     284807 non-null  float64\n",
            " 18  V18     284807 non-null  float64\n",
            " 19  V19     284807 non-null  float64\n",
            " 20  V20     284807 non-null  float64\n",
            " 21  V21     284807 non-null  float64\n",
            " 22  V22     284807 non-null  float64\n",
            " 23  V23     284807 non-null  float64\n",
            " 24  V24     284807 non-null  float64\n",
            " 25  V25     284807 non-null  float64\n",
            " 26  V26     284807 non-null  float64\n",
            " 27  V27     284807 non-null  float64\n",
            " 28  V28     284807 non-null  float64\n",
            " 29  Amount  284807 non-null  float64\n",
            " 30  Class   284807 non-null  int64  \n",
            "dtypes: float64(30), int64(1)\n",
            "memory usage: 67.4 MB\n"
          ]
        }
      ]
    },
    {
      "cell_type": "markdown",
      "source": [
        "### **4. Quantifying the Anomaly (Class Imbalance)**\n",
        "\n",
        "Before modeling, we must understand the severe nature of the class imbalance. Fraudulent transactions (Class = 1) are the anomalies we seek, but they represent a tiny fraction of the data. This extreme imbalance is the project's primary technical challenge and dictates which evaluation metrics (like Recall, not Accuracy) we must prioritize.\n",
        "\n",
        "We will quantify this imbalance and visualize the distributions of the `Amount` and `Time` features to identify initial patterns that distinguish fraud from normal behavior."
      ],
      "metadata": {
        "id": "YQxkZhC8yE8y"
      }
    },
    {
      "cell_type": "code",
      "source": [
        "# Code Block 4: Quantify Class Imbalance (Anomaly Check)\n",
        "\n",
        "# 1. Quantify the Anomaly\n",
        "print(\"--- Class Distribution ---\")\n",
        "class_counts = df['Class'].value_counts()\n",
        "fraud_count = class_counts[1]\n",
        "total_count = df.shape[0]\n",
        "fraud_percentage = (fraud_count / total_count) * 100\n",
        "print(f\"Total Transactions: {total_count:,}\")\n",
        "print(f\"Fraudulent Transactions: {fraud_count}\")\n",
        "print(f\"Anomaly (Fraud) Percentage: {fraud_percentage:.4f}%\")\n",
        "# Create a bar plot of the classes for visualization\n",
        "plt.figure(figsize=(6, 4))\n",
        "sns.countplot(x='Class', data=df)\n",
        "plt.title(f'Class Distribution: Fraud is only {fraud_percentage:.2f}% of total data')\n",
        "plt.xticks([0, 1], ['Normal (0)', 'Fraud (1)'])\n",
        "plt.show()"
      ],
      "metadata": {
        "colab": {
          "base_uri": "https://localhost:8080/",
          "height": 479
        },
        "id": "No4YveeGxnj5",
        "outputId": "555f6691-2f1d-4caa-d369-2387bd975ecb"
      },
      "execution_count": null,
      "outputs": [
        {
          "output_type": "stream",
          "name": "stdout",
          "text": [
            "--- Class Distribution ---\n",
            "Total Transactions: 284,807\n",
            "Fraudulent Transactions: 492\n",
            "Anomaly (Fraud) Percentage: 0.1727%\n"
          ]
        },
        {
          "output_type": "display_data",
          "data": {
            "text/plain": [
              "<Figure size 600x400 with 1 Axes>"
            ],
            "image/png": "[encoded data removed]"
          },
          "metadata": {}
        }
      ]
    },
    {
      "cell_type": "code",
      "source": [
        "# 2. Visualize the Amount distribution (Outlier Analysis)\n",
        "# Separate the two classes\n",
        "fraud = df[df['Class'] == 1]\n",
        "normal = df[df['Class'] == 0]\n",
        "\n",
        "plt.figure(figsize=(12, 5))\n",
        "sns.kdeplot(normal['Amount'], label='Normal', color='blue', alpha=0.6, fill=True)\n",
        "sns.kdeplot(fraud['Amount'], label='Fraud', color='red', alpha=0.8, fill=True)\n",
        "\n",
        "plt.title('Transaction Amount Distribution by Class')\n",
        "plt.xlabel('Amount')\n",
        "plt.xlim(0, 2500) # Limiting X for better visualization of the bulk data\n",
        "plt.legend()\n",
        "plt.show()"
      ],
      "metadata": {
        "colab": {
          "base_uri": "https://localhost:8080/",
          "height": 390
        },
        "id": "iSLOBRQLyNf2",
        "outputId": "b5b4de86-09bd-4c73-ff85-bcf7e7c59dc7"
      },
      "execution_count": null,
      "outputs": [
        {
          "output_type": "display_data",
          "data": {
            "text/plain": [
              "<Figure size 1200x500 with 1 Axes>"
            ],
            "image/png": "[encoded data removed]"
          },
          "metadata": {}
        }
      ]
    },
    {
      "cell_type": "code",
      "source": [
        "# 3. Visualize the Time distribution\n",
        "plt.figure(figsize=(12, 5))\n",
        "sns.histplot(normal['Time'], bins=50, label='Normal', color='blue', alpha=0.6)\n",
        "sns.histplot(fraud['Time'], bins=50, label='Fraud', color='red', alpha=0.8)\n",
        "\n",
        "plt.title('Transaction Time Distribution (Seconds from first transaction)')\n",
        "plt.xlabel('Time (in Seconds)')\n",
        "plt.legend()\n",
        "plt.show()\n"
      ],
      "metadata": {
        "colab": {
          "base_uri": "https://localhost:8080/",
          "height": 398
        },
        "id": "-rBzGHjtyXe2",
        "outputId": "a7396967-e7d6-4a5b-8df6-724f2794bedd"
      },
      "execution_count": null,
      "outputs": [
        {
          "output_type": "display_data",
          "data": {
            "text/plain": [
              "<Figure size 1200x500 with 1 Axes>"
            ],
            "image/png": "[encoded data removed]"
          },
          "metadata": {}
        }
      ]
    },
    {
      "cell_type": "markdown",
      "source": [
        "### **5. Feature Engineering and Scaling**\n",
        "\n",
        "To maximize the model's predictive power, we perform two critical preprocessing steps:\n",
        "\n",
        "1.  **Temporal Feature Creation:** The raw `Time` column (seconds elapsed) isn't directly predictive. We create an **`Hour`** feature to capture recurring fraud patterns based on the time of day, which is a key anomaly indicator we observed in the EDA.\n",
        "2.  **Feature Scaling:** While the features V1-V28 are pre-scaled (via PCA), the `Amount` feature is not. We must use `StandardScaler` to normalize it. This prevents the large magnitude of `Amount` from dominating the coefficients of our machine learning models."
      ],
      "metadata": {
        "id": "r2pOJTFSyvPX"
      }
    },
    {
      "cell_type": "code",
      "source": [
        "# Code Block 5: Feature Engineering and Scaling\n",
        "\n",
        "from sklearn.preprocessing import StandardScaler\n",
        "\n",
        "# 1. Temporal Feature Engineering (from raw 'Time')\n",
        "# Convert 'Time' (seconds) into 'Hour' (0-23) to capture daily cycles\n",
        "df['Hour'] = df['Time'].apply(lambda x: np.floor(x / 3600) % 24)"
      ],
      "metadata": {
        "id": "W78YXoN8yeXy"
      },
      "execution_count": null,
      "outputs": []
    },
    {
      "cell_type": "code",
      "source": [
        "# 2. Scaling the unscaled features: 'Amount'\n",
        "# Initialize the StandardScaler\n",
        "scaler = StandardScaler()\n",
        "\n",
        "# Scale the 'Amount' feature and create a new column\n",
        "df['Amount_Scaled'] = scaler.fit_transform(df['Amount'].values.reshape(-1, 1))"
      ],
      "metadata": {
        "id": "QjsoHxyuyz2v"
      },
      "execution_count": null,
      "outputs": []
    },
    {
      "cell_type": "code",
      "source": [
        "# 3. Clean up the DataFrame: Drop the original raw features we are replacing\n",
        "df = df.drop(['Time', 'Amount'], axis=1)\n",
        "\n",
        "print(\"--- Feature Engineering and Scaling Complete ---\")\n",
        "print(\"New features 'Hour' and 'Amount_Scaled' have been added.\")\n",
        "print(\"The 'Time' and original 'Amount' columns have been dropped.\")\n",
        "print(\"\\nFinal column list:\")\n",
        "print(df.columns)\n",
        "\n",
        "# Final check of data structure with new features\n",
        "print(\"\\nFirst 5 rows with new scaled features:\")\n",
        "print(df[['Hour', 'Amount_Scaled', 'Class']].head())"
      ],
      "metadata": {
        "colab": {
          "base_uri": "https://localhost:8080/"
        },
        "id": "Ayp7jlSOy3Oc",
        "outputId": "8c29e082-a508-400b-9ebd-4f3255138ad5"
      },
      "execution_count": null,
      "outputs": [
        {
          "output_type": "stream",
          "name": "stdout",
          "text": [
            "--- Feature Engineering and Scaling Complete ---\n",
            "New features 'Hour' and 'Amount_Scaled' have been added.\n",
            "The 'Time' and original 'Amount' columns have been dropped.\n",
            "\n",
            "Final column list:\n",
            "Index(['V1', 'V2', 'V3', 'V4', 'V5', 'V6', 'V7', 'V8', 'V9', 'V10', 'V11',\n",
            "       'V12', 'V13', 'V14', 'V15', 'V16', 'V17', 'V18', 'V19', 'V20', 'V21',\n",
            "       'V22', 'V23', 'V24', 'V25', 'V26', 'V27', 'V28', 'Class', 'Hour',\n",
            "       'Amount_Scaled'],\n",
            "      dtype='object')\n",
            "\n",
            "First 5 rows with new scaled features:\n",
            "   Hour  Amount_Scaled  Class\n",
            "0   0.0       0.244964      0\n",
            "1   0.0      -0.342475      0\n",
            "2   0.0       1.160686      0\n",
            "3   0.0       0.140534      0\n",
            "4   0.0      -0.073403      0\n"
          ]
        }
      ]
    },
    {
      "cell_type": "markdown",
      "source": [
        "### **6. Handling Imbalance and Model Training (Challenge #2)**\n",
        "\n",
        "The severe class imbalance (0.17% fraud) means models will be heavily biased toward predicting \"Normal\" (Class 0), leading to a misleading high accuracy but poor **Recall** (missing real fraud cases).\n",
        "\n",
        "To solve this, we employ **SMOTE (Synthetic Minority Over-sampling Technique)** on the training data. This generates synthetic fraud samples, balancing the dataset and allowing the models to learn the patterns of fraud more effectively.\n",
        "\n",
        "We will then train and compare three models:\n",
        "1.  **Logistic Regression (Baseline):** A simple, interpretable model.\n",
        "2.  **Random Forest:** A robust ensemble method.\n",
        "3.  **XGBoost:** A highly effective gradient boosting model, ideal for classification tasks."
      ],
      "metadata": {
        "id": "D3w9kcFGzBRs"
      }
    },
    {
      "cell_type": "code",
      "source": [
        "# Code Block 6: Data Splitting, SMOTE, and Model Training\n",
        "\n",
        "# Define features (X) and target (y)\n",
        "X = df.drop('Class', axis=1)\n",
        "y = df['Class']\n",
        "\n",
        "# 1. Data Splitting: Use Stratified Split to preserve the 0.17% fraud ratio in all sets\n",
        "# We split into Train and Test sets. SMOTE is ONLY applied to the training data.\n",
        "X_train, X_test, y_train, y_test = train_test_split(\n",
        "    X, y, test_size=0.3, random_state=42, stratify=y\n",
        ")\n",
        "print(f\"Original training set fraud count: {y_train.sum()} ({y_train.sum()/len(y_train)*100:.4f}%)\")"
      ],
      "metadata": {
        "colab": {
          "base_uri": "https://localhost:8080/"
        },
        "id": "nrNDLgIGy6Wd",
        "outputId": "e14a44dc-1ded-4a03-8257-9bd1af41d212"
      },
      "execution_count": null,
      "outputs": [
        {
          "output_type": "stream",
          "name": "stdout",
          "text": [
            "Original training set fraud count: 344 (0.1725%)\n"
          ]
        }
      ]
    },
    {
      "cell_type": "code",
      "source": [
        "# 2. Apply SMOTE to the training data to handle imbalance\n",
        "print(\"Applying SMOTE to training data...\")\n",
        "sm = SMOTE(random_state=42)\n",
        "X_train_res, y_train_res = sm.fit_resample(X_train, y_train)\n",
        "\n",
        "print(f\"Resampled training set fraud count: {y_train_res.sum()}\")\n",
        "print(f\"Resampled training set shape: {X_train_res.shape}\")\n",
        "print(f\"New resampled class ratio: {y_train_res.value_counts()}\")"
      ],
      "metadata": {
        "colab": {
          "base_uri": "https://localhost:8080/"
        },
        "id": "tosKonQuzGGV",
        "outputId": "6cd903d5-d37d-4f3a-9490-4d858a9d3605"
      },
      "execution_count": null,
      "outputs": [
        {
          "output_type": "stream",
          "name": "stdout",
          "text": [
            "Applying SMOTE to training data...\n",
            "Resampled training set fraud count: 199020\n",
            "Resampled training set shape: (398040, 30)\n",
            "New resampled class ratio: Class\n",
            "0    199020\n",
            "1    199020\n",
            "Name: count, dtype: int64\n"
          ]
        }
      ]
    },
    {
      "cell_type": "code",
      "source": [
        "# 3. Model Training (Training on the SMOTE-resampled data)\n",
        "print(\"\\n--- Training Models ---\")\n",
        "\n",
        "# a. Logistic Regression (Baseline)\n",
        "lr_model = LogisticRegression(solver='liblinear', random_state=42)\n",
        "lr_model.fit(X_train_res, y_train_res)\n",
        "print(\"Trained Logistic Regression.\")\n",
        "\n"
      ],
      "metadata": {
        "colab": {
          "base_uri": "https://localhost:8080/"
        },
        "id": "90eRSIGbzUa1",
        "outputId": "006ae5b0-95b5-40f9-9e1e-e50b39c6ef7f"
      },
      "execution_count": null,
      "outputs": [
        {
          "output_type": "stream",
          "name": "stdout",
          "text": [
            "\n",
            "--- Training Models ---\n",
            "Trained Logistic Regression.\n"
          ]
        }
      ]
    },
    {
      "cell_type": "code",
      "source": [
        "# b. Random Forest Model\n",
        "from sklearn.ensemble import RandomForestClassifier\n",
        "\n",
        "# Reduce estimators to 50 and limit max_depth to 10-15\n",
        "rf_model = RandomForestClassifier(\n",
        "    n_estimators=50,\n",
        "    max_depth=12,  # Prevents overfitting and speeds up training\n",
        "    random_state=42,\n",
        "    n_jobs=-1       # Tells Python to use all available processor cores (much faster)\n",
        ")\n",
        "rf_model.fit(X_train_res, y_train_res)\n",
        "print(\"Trained Random Forest.\")"
      ],
      "metadata": {
        "colab": {
          "base_uri": "https://localhost:8080/"
        },
        "id": "gBQk9DPY64_R",
        "outputId": "2571b7df-f565-4803-be41-8653475dfff6"
      },
      "execution_count": null,
      "outputs": [
        {
          "output_type": "stream",
          "name": "stdout",
          "text": [
            "Trained Random Forest.\n"
          ]
        }
      ]
    },
    {
      "cell_type": "code",
      "source": [
        "# c. XGBoost (Often the best performer for classification)\n",
        "xgb_model = xgb.XGBClassifier(objective='binary:logistic', eval_metric='logloss', use_label_encoder=False, random_state=42)\n",
        "xgb_model.fit(X_train_res, y_train_res)\n",
        "print(\"Trained XGBoost.\")\n",
        "\n",
        "print(\"\\nAll models trained and ready for evaluation on the original (non-SMOTE) test data.\")"
      ],
      "metadata": {
        "colab": {
          "base_uri": "https://localhost:8080/"
        },
        "id": "d5OmsnWF7aad",
        "outputId": "94072ac3-20f4-4121-f837-42d0f940e36a"
      },
      "execution_count": null,
      "outputs": [
        {
          "output_type": "stream",
          "name": "stderr",
          "text": [
            "/usr/local/lib/python3.12/dist-packages/xgboost/training.py:199: UserWarning: [12:03:37] WARNING: /workspace/src/learner.cc:790: \n",
            "Parameters: { \"use_label_encoder\" } are not used.\n",
            "\n",
            "  bst.update(dtrain, iteration=i, fobj=obj)\n"
          ]
        },
        {
          "output_type": "stream",
          "name": "stdout",
          "text": [
            "Trained XGBoost.\n",
            "\n",
            "All models trained and ready for evaluation on the original (non-SMOTE) test data.\n"
          ]
        }
      ]
    },
    {
      "cell_type": "markdown",
      "source": [
        "### **7. Model Evaluation and Comparison**\n",
        "\n",
        "Since our dataset is highly imbalanced, simple **Accuracy is misleading**. A model that predicts \"Normal\" for everything would still be over 99.8% accurate, but useless.\n",
        "\n",
        "Therefore, we must use metrics tailored for anomaly detection:\n",
        "* **Recall:** The percentage of *actual fraud* cases correctly identified (critical for minimizing losses).\n",
        "* **Precision:** The percentage of *predicted fraud* cases that were actually fraud (important for minimizing false alarms).\n",
        "* **F1-Score:** The harmonic mean of Precision and Recall.\n",
        "* **AUC-ROC & AUC-PR:** Measures of classifier performance across all possible thresholds. **AUC-PR (Area Under the Precision-Recall Curve)** is the most robust metric for extreme class imbalance."
      ],
      "metadata": {
        "id": "QoyFK3DW9gie"
      }
    },
    {
      "cell_type": "code",
      "source": [
        "# Code Block 7: Model Evaluation and Comparison\n",
        "\n",
        "from sklearn.ensemble import RandomForestClassifier # Need to import it here if the previous cell was reset\n",
        "from sklearn.metrics import recall_score # Need to import it here if the previous cell was reset\n",
        "\n",
        "models = {\n",
        "    'Logistic Regression': lr_model,\n",
        "    'Random Forest': rf_model,\n",
        "    'XGBoost': xgb_model\n",
        "}\n",
        "\n",
        "results = {}\n",
        "\n",
        "print(\"--- Evaluation on Original (Non-SMOTE) Test Data ---\")\n"
      ],
      "metadata": {
        "colab": {
          "base_uri": "https://localhost:8080/"
        },
        "id": "eJHoCx5p_CMf",
        "outputId": "fde3125f-0604-471c-c19e-bcc70e30c0e3"
      },
      "execution_count": null,
      "outputs": [
        {
          "output_type": "stream",
          "name": "stdout",
          "text": [
            "--- Evaluation on Original (Non-SMOTE) Test Data ---\n"
          ]
        }
      ]
    },
    {
      "cell_type": "code",
      "source": [
        "for name, model in models.items():\n",
        "    # 1. Get predictions on the original test set\n",
        "    y_pred = model.predict(X_test)\n",
        "    y_prob = model.predict_proba(X_test)[:, 1]\n",
        "\n",
        "    print(f\"\\nModel: {name}\")\n",
        "    print(\"-----------------------------------\")"
      ],
      "metadata": {
        "colab": {
          "base_uri": "https://localhost:8080/"
        },
        "id": "1q4UNDlG_JhV",
        "outputId": "ee6e3a2a-ea56-40a3-a11b-b766fcc9ebd0"
      },
      "execution_count": null,
      "outputs": [
        {
          "output_type": "stream",
          "name": "stdout",
          "text": [
            "\n",
            "Model: Logistic Regression\n",
            "-----------------------------------\n",
            "\n",
            "Model: Random Forest\n",
            "-----------------------------------\n",
            "\n",
            "Model: XGBoost\n",
            "-----------------------------------\n"
          ]
        }
      ]
    },
    {
      "cell_type": "code",
      "source": [
        "for name, model in models.items():\n",
        "  # 2. Print Classification Report (Precision, Recall, F1)\n",
        "    # The problematic line is now correctly indented here:\n",
        "    print(classification_report(y_test, y_pred, target_names=['Normal (0)', 'Fraud (1)']))"
      ],
      "metadata": {
        "colab": {
          "base_uri": "https://localhost:8080/"
        },
        "id": "wc5Ex5vt_NTW",
        "outputId": "d86b3384-46ed-4c73-8fef-4a9e1b5b25a0"
      },
      "execution_count": null,
      "outputs": [
        {
          "output_type": "stream",
          "name": "stdout",
          "text": [
            "              precision    recall  f1-score   support\n",
            "\n",
            "  Normal (0)       1.00      1.00      1.00     85295\n",
            "   Fraud (1)       0.79      0.80      0.80       148\n",
            "\n",
            "    accuracy                           1.00     85443\n",
            "   macro avg       0.89      0.90      0.90     85443\n",
            "weighted avg       1.00      1.00      1.00     85443\n",
            "\n",
            "              precision    recall  f1-score   support\n",
            "\n",
            "  Normal (0)       1.00      1.00      1.00     85295\n",
            "   Fraud (1)       0.79      0.80      0.80       148\n",
            "\n",
            "    accuracy                           1.00     85443\n",
            "   macro avg       0.89      0.90      0.90     85443\n",
            "weighted avg       1.00      1.00      1.00     85443\n",
            "\n",
            "              precision    recall  f1-score   support\n",
            "\n",
            "  Normal (0)       1.00      1.00      1.00     85295\n",
            "   Fraud (1)       0.79      0.80      0.80       148\n",
            "\n",
            "    accuracy                           1.00     85443\n",
            "   macro avg       0.89      0.90      0.90     85443\n",
            "weighted avg       1.00      1.00      1.00     85443\n",
            "\n"
          ]
        }
      ]
    },
    {
      "cell_type": "code",
      "source": [
        "for name, model in models.items():\n",
        "  # 3. Calculate AUC-ROC and AUC-PR (Advanced Metrics)\n",
        "    roc_auc = roc_auc_score(y_test, y_prob)\n",
        "    precision, recall, _ = precision_recall_curve(y_test, y_prob)\n",
        "    pr_auc = auc(recall, precision)\n",
        "\n",
        "    results[name] = {'Recall': recall_score(y_test, y_pred), 'AUC-PR': pr_auc}\n",
        "\n",
        "    print(f\"AUC-ROC Score: {roc_auc:.4f}\")\n",
        "    print(f\"AUC-PR Score: {pr_auc:.4f}\")"
      ],
      "metadata": {
        "colab": {
          "base_uri": "https://localhost:8080/"
        },
        "id": "DaWyuXo9_Vg3",
        "outputId": "d972581f-420c-43b5-9475-0a42cbb0c5cc"
      },
      "execution_count": null,
      "outputs": [
        {
          "output_type": "stream",
          "name": "stdout",
          "text": [
            "AUC-ROC Score: 0.9761\n",
            "AUC-PR Score: 0.8326\n",
            "AUC-ROC Score: 0.9761\n",
            "AUC-PR Score: 0.8326\n",
            "AUC-ROC Score: 0.9761\n",
            "AUC-PR Score: 0.8326\n"
          ]
        }
      ]
    },
    {
      "cell_type": "code",
      "source": [
        "# 4. Final Comparison Table (Focusing on key metrics)\n",
        "print(\"\\n==============================================\")\n",
        "print(\"FINAL MODEL COMPARISON (Focus on Fraud Recall & AUC-PR)\")\n",
        "comparison_df = pd.DataFrame(results).T\n",
        "print(comparison_df.sort_values(by='AUC-PR', ascending=False))\n",
        "print(\"==============================================\")"
      ],
      "metadata": {
        "colab": {
          "base_uri": "https://localhost:8080/"
        },
        "id": "Qa5bdKdS_osV",
        "outputId": "42f276ac-7110-457d-e212-ce978dc4ebd0"
      },
      "execution_count": null,
      "outputs": [
        {
          "output_type": "stream",
          "name": "stdout",
          "text": [
            "\n",
            "==============================================\n",
            "FINAL MODEL COMPARISON (Focus on Fraud Recall & AUC-PR)\n",
            "                       Recall    AUC-PR\n",
            "Logistic Regression  0.804054  0.832641\n",
            "Random Forest        0.804054  0.832641\n",
            "XGBoost              0.804054  0.832641\n",
            "==============================================\n"
          ]
        }
      ]
    },
    {
      "cell_type": "markdown",
      "source": [
        "### **8. Conclusion, Best Model Selection, and Deployment Strategy**\n",
        "\n",
        "Based on the consistent and excellent **AUC-PR Score of 0.8326** across all three models, we select the **XGBoost Classifier** as our final solution due to its superior performance characteristics for production environments.\n",
        "\n",
        "For deployment, we must address **real-time monitoring** and **scalability**. Since financial fraud requires instantaneous decisions, the model is prepared to be deployed as a fast, reliable microservice.\n",
        "\n",
        "-   **Real-time Monitoring (Challenge #4):** The saved XGBoost model scores new transactions instantly. We would use a defined **Threshold** (tuned based on business risk) to flag transactions for immediate review or rejection.\n",
        "-   **Scalability (Challenge #5):** The model is saved in a highly efficient format (using `pickle`) and ready to be deployed via an **API (Application Programming Interface)** on a cloud platform. This setup ensures that the system can handle large volumes of transactions with low latency."
      ],
      "metadata": {
        "id": "Pw0VaA0iAaDc"
      }
    },
    {
      "cell_type": "code",
      "source": [
        "# Code Block 8: Saving the Best Model (XGBoost) for Deployment\n",
        "\n",
        "import pickle\n",
        "import os\n",
        "\n",
        "# 1. Select the Best Model (XGBoost)\n",
        "best_model = xgb_model\n",
        "model_name = 'XGBoost_Fraud_Detector.pkl'\n",
        "\n",
        "# 2. Define the path to save the model file in the Colab directory\n",
        "model_save_path = f'/content/{model_name}'\n",
        "\n",
        "# 3. Save the model using the pickle library\n",
        "# This is the file that would be deployed as a production microservice\n",
        "with open(model_save_path, 'wb') as file:\n",
        "    pickle.dump(best_model, file)\n",
        "\n",
        "print(f\"Final Model saved successfully to: {model_save_path}\")\n",
        "print(\"This file can now be downloaded and uploaded to GitHub.\")\n"
      ],
      "metadata": {
        "colab": {
          "base_uri": "https://localhost:8080/"
        },
        "id": "weVPmfXj_5lq",
        "outputId": "fb1f7660-0550-40e0-8cea-fb98d5abf7dd"
      },
      "execution_count": null,
      "outputs": [
        {
          "output_type": "stream",
          "name": "stdout",
          "text": [
            "Final Model saved successfully to: /content/XGBoost_Fraud_Detector.pkl\n",
            "This file can now be downloaded and uploaded to GitHub.\n"
          ]
        }
      ]
    },
    {
      "cell_type": "code",
      "source": [
        "# Code Block for Downloading the Saved Model\n",
        "\n",
        "from google.colab import files\n",
        "\n",
        "# Define the file name you used when saving the model in Code Cell 8\n",
        "model_name = 'XGBoost_Fraud_Detector.pkl'\n",
        "model_path = f'/content/{model_name}'\n",
        "\n",
        "# Trigger the download prompt\n",
        "print(f\"Downloading the final model: {model_name}\")\n",
        "files.download(model_path)"
      ],
      "metadata": {
        "colab": {
          "base_uri": "https://localhost:8080/",
          "height": 34
        },
        "id": "FcmGuuvWAd8w",
        "outputId": "53593bfc-3a85-49da-984c-f2bebe8959a6"
      },
      "execution_count": null,
      "outputs": [
        {
          "output_type": "stream",
          "name": "stdout",
          "text": [
            "Downloading the final model: XGBoost_Fraud_Detector.pkl\n"
          ]
        },
        {
          "output_type": "display_data",
          "data": {
            "text/plain": [
              "<IPython.core.display.Javascript object>"
            ],
            "application/javascript": [
              "\n",
              "    async function download(id, filename, size) {\n",
              "      if (!google.colab.kernel.accessAllowed) {\n",
              "        return;\n",
              "      }\n",
              "      const div = document.createElement('div');\n",
              "      const label = document.createElement('label');\n",
              "      label.textContent = `Downloading \"${filename}\": `;\n",
              "      div.appendChild(label);\n",
              "      const progress = document.createElement('progress');\n",
              "      progress.max = size;\n",
              "      div.appendChild(progress);\n",
              "      document.body.appendChild(div);\n",
              "\n",
              "      const buffers = [];\n",
              "      let downloaded = 0;\n",
              "\n",
              "      const channel = await google.colab.kernel.comms.open(id);\n",
              "      // Send a message to notify the kernel that we're ready.\n",
              "      channel.send({})\n",
              "\n",
              "      for await (const message of channel.messages) {\n",
              "        // Send a message to notify the kernel that we're ready.\n",
              "        channel.send({})\n",
              "        if (message.buffers) {\n",
              "          for (const buffer of message.buffers) {\n",
              "            buffers.push(buffer);\n",
              "            downloaded += buffer.byteLength;\n",
              "            progress.value = downloaded;\n",
              "          }\n",
              "        }\n",
              "      }\n",
              "      const blob = new Blob(buffers, {type: 'application/binary'});\n",
              "      const a = document.createElement('a');\n",
              "      a.href = window.URL.createObjectURL(blob);\n",
              "      a.download = filename;\n",
              "      div.appendChild(a);\n",
              "      a.click();\n",
              "      div.remove();\n",
              "    }\n",
              "  "
            ]
          },
          "metadata": {}
        },
        {
          "output_type": "display_data",
          "data": {
            "text/plain": [
              "<IPython.core.display.Javascript object>"
            ],
            "application/javascript": [
              "download(\"download_dbd3f789-4f90-44e7-afa9-c269f1320945\", \"XGBoost_Fraud_Detector.pkl\", 299440)"
            ]
          },
          "metadata": {}
        }
      ]
    },
    {
      "cell_type": "code",
      "source": [
        "# Final Code Block: Testing the Saved .pkl Model\n",
        "\n",
        "import pickle\n",
        "import os\n",
        "\n",
        "# --- 1. Load the Saved Model ---\n",
        "model_name = 'XGBoost_Fraud_Detector.pkl'\n",
        "model_path = f'/content/{model_name}'\n",
        "\n",
        "# Load the model from the content folder\n",
        "with open(model_path, 'rb') as file:\n",
        "    loaded_model = pickle.load(file)\n",
        "\n",
        "print(f\"Model '{model_name}' successfully loaded into 'loaded_model' for inference.\")\n",
        "\n",
        "# --- 2. Test with a KNOWN FRAUD Case (Simulation) ---\n",
        "# NOTE: This uses variables X_test and y_test from Code Cell 6.\n",
        "try:\n",
        "    # Select the first KNOWN FRAUD case from your test set\n",
        "    fraud_index = y_test[y_test == 1].index[0]\n",
        "    new_transaction_features = X_test.loc[[fraud_index]]\n",
        "\n",
        "    # Make the prediction (getting the score is key for real-time)\n",
        "    prediction_score = loaded_model.predict_proba(new_transaction_features)[:, 1][0]\n",
        "    prediction_class = loaded_model.predict(new_transaction_features)[0]\n",
        "\n",
        "    # --- 3. Output the Result ---\n",
        "    print(\"\\n--- Real-Time Prediction Check (Simulated) ---\")\n",
        "    print(f\"Actual Class (Ground Truth): {y_test.loc[fraud_index]} (FRAUD)\")\n",
        "    print(f\"Predicted Fraud Probability Score: {prediction_score:.4f}\")\n",
        "\n",
        "    if prediction_score > 0.5:\n",
        "        print(f\"\\n✅ RESULT: Model prediction is 1 (Fraud). The actual fraud was successfully caught.\")\n",
        "    else:\n",
        "        print(f\"\\n❌ RESULT: Model prediction is 0 (Normal). This fraud case was missed.\")\n",
        "\n",
        "except:\n",
        "    print(\"\\nError: Could not retrieve a fraud transaction from X_test. Please ensure Code Cell 6 ran correctly.\")"
      ],
      "metadata": {
        "colab": {
          "base_uri": "https://localhost:8080/"
        },
        "id": "6F5bjeh9DDIg",
        "outputId": "ce38fd7c-09ef-4382-f292-922a6ccc6ad3"
      },
      "execution_count": 43,
      "outputs": [
        {
          "output_type": "stream",
          "name": "stdout",
          "text": [
            "Model 'XGBoost_Fraud_Detector.pkl' successfully loaded into 'loaded_model' for inference.\n",
            "\n",
            "--- Real-Time Prediction Check (Simulated) ---\n",
            "Actual Class (Ground Truth): 1 (FRAUD)\n",
            "Predicted Fraud Probability Score: 1.0000\n",
            "\n",
            "✅ RESULT: Model prediction is 1 (Fraud). The actual fraud was successfully caught.\n"
          ]
        }
      ]
    },
    {
      "cell_type": "markdown",
      "source": [
        "### **9. Project Summary and Conclusion**\n",
        "\n",
        "This project successfully implemented a Machine Learning solution for a critical financial problem, meeting all key internship challenges.\n",
        "\n",
        "-   **Objective Met:** We built and evaluated multiple classification models on a highly imbalanced dataset.\n",
        "-   **Best Model:** The **XGBoost Classifier** was selected as the final model.\n",
        "-   **Key Result:** The model achieved a robust **AUC-PR score of 0.8326**, demonstrating its superior ability to accurately detect rare fraudulent transactions.\n",
        "-   **Anomalies Handled:** We addressed the data imbalance using **SMOTE** on the training set and prioritized **Recall** (catching fraud) over misleading Accuracy.\n",
        "-   **Deployment Strategy:** The final, optimized model was saved as a `.pkl` file, fulfilling the design requirement for a deployable microservice capable of **Real-time Monitoring** and **Scalability** in a production environment."
      ],
      "metadata": {
        "id": "dMs9HyqYDZHx"
      }
    }
  ]
}