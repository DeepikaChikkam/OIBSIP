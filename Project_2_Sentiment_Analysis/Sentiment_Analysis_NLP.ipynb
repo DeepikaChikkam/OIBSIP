{
  "nbformat": 4,
  "nbformat_minor": 0,
  "metadata": {
    "colab": {
      "provenance": []
    },
    "kernelspec": {
      "name": "python3",
      "display_name": "Python 3"
    },
    "language_info": {
      "name": "python"
    }
  },
  "cells": [
    {
      "cell_type": "markdown",
      "source": [
        "# 💬 Project : Sentiment Analysis using Natural Language Processing (NLP)\n",
        "\n",
        "**Internship:** OASIS INFOBYTE Data Analytics Internship\n",
        "\n",
        "**Goal:** To apply Natural Language Processing techniques to social media data (Twitter) to automatically classify public opinion (sentiment) as Positive, Negative, or Neutral. This demonstrates expertise in handling unstructured text.\n",
        "\n",
        "---\n",
        "\n",
        "### **Project Scope**\n",
        "\n",
        "This project focuses on the core challenges of text classification:\n",
        "\n",
        "1.  **Text Preprocessing:** Cleaning noisy Twitter data by removing links, mentions, and performing text normalization.\n",
        "2.  **Feature Engineering (Vectorization):** Converting the cleaned text into a numerical format (features) using **TF-IDF**.\n",
        "3.  **Multi-Class Classification:** Training Machine Learning models like **Naive Bayes** and **Support Vector Machines** to accurately predict the sentiment label."
      ],
      "metadata": {
        "id": "HK_Xe1gr2XDv"
      }
    },
    {
      "cell_type": "markdown",
      "source": [
        "### **Phase 1: Setup and Data Access**\n",
        "The first steps involve loading essential libraries and accessing the compressed data file from Google Drive."
      ],
      "metadata": {
        "id": "PFLZH1XX2dTz"
      }
    },
    {
      "cell_type": "code",
      "execution_count": 34,
      "metadata": {
        "colab": {
          "base_uri": "https://localhost:8080/"
        },
        "id": "uYdZn3HdxpLw",
        "outputId": "3cfff31c-999e-49a0-eada-ad4bcb0aee4c"
      },
      "outputs": [
        {
          "output_type": "stream",
          "name": "stdout",
          "text": [
            "Requirement already satisfied: nltk in /usr/local/lib/python3.12/dist-packages (3.9.1)\n",
            "Requirement already satisfied: click in /usr/local/lib/python3.12/dist-packages (from nltk) (8.3.0)\n",
            "Requirement already satisfied: joblib in /usr/local/lib/python3.12/dist-packages (from nltk) (1.5.2)\n",
            "Requirement already satisfied: regex>=2021.8.3 in /usr/local/lib/python3.12/dist-packages (from nltk) (2024.11.6)\n",
            "Requirement already satisfied: tqdm in /usr/local/lib/python3.12/dist-packages (from nltk) (4.67.1)\n",
            "All required core and NLP libraries loaded successfully!\n"
          ]
        },
        {
          "output_type": "stream",
          "name": "stderr",
          "text": [
            "[nltk_data] Downloading package stopwords to /root/nltk_data...\n",
            "[nltk_data]   Package stopwords is already up-to-date!\n"
          ]
        }
      ],
      "source": [
        "# Code Block 1: Setup and Library Imports\n",
        "\n",
        "# Install library for handling text data (if not already installed in your Colab session)\n",
        "!pip install nltk\n",
        "\n",
        "# Core Data Handling and ML\n",
        "import pandas as pd\n",
        "import numpy as np\n",
        "import matplotlib.pyplot as plt\n",
        "from sklearn.model_selection import train_test_split\n",
        "from sklearn.metrics import classification_report, accuracy_score\n",
        "\n",
        "# Specialized NLP Libraries\n",
        "import re                                       # For Regular Expressions (text cleaning)\n",
        "import nltk                                     # Natural Language Toolkit\n",
        "from nltk.corpus import stopwords               # List of common words to remove\n",
        "from sklearn.feature_extraction.text import TfidfVectorizer # For turning text into numbers\n",
        "from sklearn.naive_bayes import MultinomialNB   # Simple, effective text classifier\n",
        "from sklearn.svm import SVC                     # Support Vector Classifier (Challenge #3)\n",
        "\n",
        "# Download NLTK data required for stopword removal\n",
        "nltk.download('stopwords')\n",
        "\n",
        "print(\"All required core and NLP libraries loaded successfully!\")"
      ]
    },
    {
      "cell_type": "markdown",
      "source": [
        "### **2. Accessing and Loading Data**\n",
        "\n",
        "We access the data by first mounting the Google Drive where the compressed `Twitter_Sentiment_Data.zip` file resides. We will then unzip the file into the Colab environment so it can be loaded into a Pandas DataFrame for processing. Since this is social media data, we use `encoding='latin-1'` to prevent errors from special characters."
      ],
      "metadata": {
        "id": "8sTF0mzG2ygq"
      }
    },
    {
      "cell_type": "code",
      "source": [
        "# Code Block 2: Mount Drive, Unzip, and Load Data\n",
        "\n",
        "import zipfile\n",
        "import os\n",
        "\n",
        "# Set the correct path\n",
        "zip_file_path = '/content/drive/MyDrive/OIBSIP_DATA/Twitter_Sentiment_Data.zip'\n",
        "\n",
        "# 1. Mount Google Drive\n",
        "from google.colab import drive\n",
        "drive.mount('/content/drive', force_remount=True)\n",
        "\n",
        "# 2. Unzip using Python's zipfile library\n",
        "print(f\"Attempting Python-based unzipping for: {zip_file_path}\")\n",
        "\n",
        "try:\n",
        "    with zipfile.ZipFile(zip_file_path, 'r') as zip_ref:\n",
        "        # Get the name of the first file inside the zip (the CSV file)\n",
        "        csv_internal_name = zip_ref.namelist()[0]\n",
        "        zip_ref.extractall(\"/content/\")\n",
        "        print(f\"Unzipping successful! Extracted file: {csv_internal_name}\")\n",
        "\n",
        "except Exception as e:\n",
        "    print(f\"\\nFATAL ERROR: Failed to unzip file. Error: {e}\")\n",
        "    print(\"ACTION REQUIRED: The ZIP file is likely corrupted or not fully synchronized. Please re-download the data and re-upload to your Google Drive.\")\n",
        "    raise\n",
        "\n",
        "# 3. Load the unzipped CSV file\n",
        "df_sentiment = pd.read_csv(f'/content/{csv_internal_name}', encoding='latin-1')\n",
        "print(\"\\nSentiment Data successfully loaded into DataFrame (df_sentiment)!\")\n",
        "print(\"\\nFirst 5 rows and info:\")\n",
        "print(df_sentiment.head())\n",
        "df_sentiment.info()"
      ],
      "metadata": {
        "colab": {
          "base_uri": "https://localhost:8080/"
        },
        "id": "wIbJXlj-2gtP",
        "outputId": "ecfe7deb-87b3-4c67-f34f-79a54e5e3d50"
      },
      "execution_count": 35,
      "outputs": [
        {
          "output_type": "stream",
          "name": "stdout",
          "text": [
            "Mounted at /content/drive\n",
            "Attempting Python-based unzipping for: /content/drive/MyDrive/OIBSIP_DATA/Twitter_Sentiment_Data.zip\n",
            "Unzipping successful! Extracted file: Twitter_Data.csv\n",
            "\n",
            "Sentiment Data successfully loaded into DataFrame (df_sentiment)!\n",
            "\n",
            "First 5 rows and info:\n",
            "                                          clean_text  category\n",
            "0  when modi promised âminimum government maxim...      -1.0\n",
            "1  talk all the nonsense and continue all the dra...       0.0\n",
            "2  what did just say vote for modi  welcome bjp t...       1.0\n",
            "3  asking his supporters prefix chowkidar their n...       1.0\n",
            "4  answer who among these the most powerful world...       1.0\n",
            "<class 'pandas.core.frame.DataFrame'>\n",
            "RangeIndex: 162980 entries, 0 to 162979\n",
            "Data columns (total 2 columns):\n",
            " #   Column      Non-Null Count   Dtype  \n",
            "---  ------      --------------   -----  \n",
            " 0   clean_text  162976 non-null  object \n",
            " 1   category    162973 non-null  float64\n",
            "dtypes: float64(1), object(1)\n",
            "memory usage: 2.5+ MB\n"
          ]
        }
      ]
    },
    {
      "cell_type": "markdown",
      "source": [
        "### **3. Initial Data Cleaning and Preparation**\n",
        "\n",
        "The raw Twitter data needs crucial preparation before modeling. This involves handling inconsistencies in the dataset itself:\n",
        "\n",
        "1.  **Handling Missing Values:** Removing null/missing rows, as text cleaning and analysis cannot be performed on empty entries.\n",
        "2.  **Standardizing Labels:** Converting the target `category` column (which appears as a float like `-1.0`) into a standardized integer format (`-1, 0, 1`) for our classification models."
      ],
      "metadata": {
        "id": "8g0uu4Uv4bc5"
      }
    },
    {
      "cell_type": "code",
      "source": [
        "# Code Block 3: Data Cleaning, Standardization, and Function Definition\n",
        "\n",
        "# 1. Handle Missing Values (Rows with missing text or category)\n",
        "print(\"Initial row count:\", df_sentiment.shape[0])\n",
        "df_sentiment.dropna(inplace=True)\n",
        "print(\"Row count after dropping missing values:\", df_sentiment.shape[0])"
      ],
      "metadata": {
        "colab": {
          "base_uri": "https://localhost:8080/"
        },
        "id": "o5avipd524I8",
        "outputId": "a8bfc4db-80a4-4817-b25d-f60b4ec6e434"
      },
      "execution_count": 36,
      "outputs": [
        {
          "output_type": "stream",
          "name": "stdout",
          "text": [
            "Initial row count: 162980\n",
            "Row count after dropping missing values: 162969\n"
          ]
        }
      ]
    },
    {
      "cell_type": "code",
      "source": [
        "# 2. Standardize the Target Variable ('category')\n",
        "# Convert the 'category' (sentiment label) from float to integer\n",
        "df_sentiment['category'] = df_sentiment['category'].astype(int)\n",
        "# Check the distribution of sentiment classes\n",
        "print(\"\\nSentiment Class Distribution (1=Positive, 0=Neutral, -1=Negative):\")\n",
        "print(df_sentiment['category'].value_counts())"
      ],
      "metadata": {
        "colab": {
          "base_uri": "https://localhost:8080/"
        },
        "id": "dMqC5CGG4fB0",
        "outputId": "a87a8abe-1778-4f90-babd-45a7442dffea"
      },
      "execution_count": 37,
      "outputs": [
        {
          "output_type": "stream",
          "name": "stdout",
          "text": [
            "\n",
            "Sentiment Class Distribution (1=Positive, 0=Neutral, -1=Negative):\n",
            "category\n",
            " 1    72249\n",
            " 0    55211\n",
            "-1    35509\n",
            "Name: count, dtype: int64\n"
          ]
        }
      ]
    },
    {
      "cell_type": "code",
      "source": [
        "# 3. Text Cleaning Function Definitions (Crucial for NLP Feature Engineering)\n",
        "\n",
        "def clean_text(text):\n",
        "    # Convert to string and lowercase\n",
        "    text = str(text).lower()\n",
        "\n",
        "    # Remove URLs, mentions (@), and hashtags (#)\n",
        "    text = re.sub(r'http\\S+|www.\\S+|https?:\\S+|@\\S+|#[^\\s]+', '', text)\n",
        "\n",
        "    # Remove HTML tags and punctuation, keeping only letters and spaces\n",
        "    text = re.sub(r'<.*?>|[^a-zA-Z\\s]', '', text)\n",
        "\n",
        "    # Remove stopwords\n",
        "    stop_words = set(stopwords.words('english'))\n",
        "    words = text.split()\n",
        "    text = ' '.join([word for word in words if word not in stop_words])\n",
        "\n",
        "    return text\n",
        "\n",
        "print(\"\\nData preparation complete (Missing values handled and cleaning function defined).\")"
      ],
      "metadata": {
        "colab": {
          "base_uri": "https://localhost:8080/"
        },
        "id": "R36-j4184h7s",
        "outputId": "0153c2e1-174d-4ccc-cc20-e9d059400138"
      },
      "execution_count": 38,
      "outputs": [
        {
          "output_type": "stream",
          "name": "stdout",
          "text": [
            "\n",
            "Data preparation complete (Missing values handled and cleaning function defined).\n"
          ]
        }
      ]
    },
    {
      "cell_type": "markdown",
      "source": [
        "### **4. Applying Text Preprocessing**\n",
        "\n",
        "With the cleaning function and necessary lists (like stopwords) defined, we now apply the function to the entire text column. This is the core of our Natural Language Processing (NLP) pipeline, transforming the messy, unstructured tweets into a clean format that our machine learning models can understand."
      ],
      "metadata": {
        "id": "0hgffrDw4yZK"
      }
    },
    {
      "cell_type": "code",
      "source": [
        "# Code Block 4: Apply Text Cleaning and Preview\n",
        "\n",
        "# 1. Apply the cleaning function to the text column\n",
        "df_sentiment['clean_text'] = df_sentiment['clean_text'].apply(clean_text)"
      ],
      "metadata": {
        "id": "5hqwtqBn4u2u"
      },
      "execution_count": 39,
      "outputs": []
    },
    {
      "cell_type": "code",
      "source": [
        "# 2. Check the results of the cleaning\n",
        "print(\"Text Cleaning Applied Successfully.\")\n",
        "print(\"\\nFirst 5 cleaned tweets:\")\n",
        "\n",
        "# Display the cleaned text and the corresponding label\n",
        "print(df_sentiment[['clean_text', 'category']].head())"
      ],
      "metadata": {
        "colab": {
          "base_uri": "https://localhost:8080/"
        },
        "id": "W4mBX9s942rO",
        "outputId": "063b04fa-196a-4491-8d06-f61d39e844e3"
      },
      "execution_count": 40,
      "outputs": [
        {
          "output_type": "stream",
          "name": "stdout",
          "text": [
            "Text Cleaning Applied Successfully.\n",
            "\n",
            "First 5 cleaned tweets:\n",
            "                                          clean_text  category\n",
            "0  modi promised minimum government maximum gover...        -1\n",
            "1             talk nonsense continue drama vote modi         0\n",
            "2  say vote modi welcome bjp told rahul main camp...         1\n",
            "3  asking supporters prefix chowkidar names modi ...         1\n",
            "4  answer among powerful world leader today trump...         1\n"
          ]
        }
      ]
    },
    {
      "cell_type": "markdown",
      "source": [
        "### **5. Feature Engineering: Text Vectorization**\n",
        "\n",
        "The final step in preparing the text data is to convert it into a numerical format, as machine learning models cannot directly process words. We use **TF-IDF (Term Frequency-Inverse Document Frequency)**, which creates a matrix where:\n",
        "\n",
        "1.  **Term Frequency (TF):** Measures how often a word appears in a single tweet.\n",
        "2.  **Inverse Document Frequency (IDF):** Discounts common words (like \"vote\" or \"modi\") that appear across *many* tweets, giving higher weight to unique, sentiment-carrying words (like \"nonsense\" or \"powerful\").\n",
        "\n",
        "This TF-IDF matrix will serve as the final feature set ($\\mathbf{X}$) for our classification models."
      ],
      "metadata": {
        "id": "i8urzmk_5EEn"
      }
    },
    {
      "cell_type": "code",
      "source": [
        "# Code Block 5: Text Vectorization using TF-IDF\n",
        "\n",
        "# 1. Separate the target variable (y) from the features (X)\n",
        "X_text = df_sentiment['clean_text']\n",
        "y = df_sentiment['category']"
      ],
      "metadata": {
        "id": "-CF5V5aT4_1o"
      },
      "execution_count": 41,
      "outputs": []
    },
    {
      "cell_type": "code",
      "source": [
        "# 2. Split the data into training and testing sets\n",
        "X_train_text, X_test_text, y_train, y_test = train_test_split(\n",
        "    X_text, y, test_size=0.2, random_state=42, stratify=y\n",
        ")\n",
        "print(\"Data split complete. Training set size:\", X_train_text.shape[0])"
      ],
      "metadata": {
        "colab": {
          "base_uri": "https://localhost:8080/"
        },
        "id": "Cc2mvO-Q5HOa",
        "outputId": "59fafeb5-b6c9-4184-8d03-99f856d66d9f"
      },
      "execution_count": 42,
      "outputs": [
        {
          "output_type": "stream",
          "name": "stdout",
          "text": [
            "Data split complete. Training set size: 130375\n"
          ]
        }
      ]
    },
    {
      "cell_type": "code",
      "source": [
        "# 3. Initialize the TfidfVectorizer\n",
        "# We limit the features to the top 5000 most frequent words\n",
        "vectorizer = TfidfVectorizer(max_features=5000)"
      ],
      "metadata": {
        "id": "v7dHSq6X5J76"
      },
      "execution_count": 43,
      "outputs": []
    },
    {
      "cell_type": "code",
      "source": [
        "# 4. Fit the vectorizer on the training data and transform both sets\n",
        "X_train_vectorized = vectorizer.fit_transform(X_train_text)\n",
        "X_test_vectorized = vectorizer.transform(X_test_text)\n",
        "\n",
        "print(f\"Vectorization complete.\")\n",
        "print(f\"Shape of Training Features (X_train): {X_train_vectorized.shape}\")\n",
        "print(f\"Shape of Testing Features (X_test): {X_test_vectorized.shape}\")"
      ],
      "metadata": {
        "colab": {
          "base_uri": "https://localhost:8080/"
        },
        "id": "jIctNz895MM2",
        "outputId": "6724f204-1f82-4dd5-8c61-925a1b9c0ff6"
      },
      "execution_count": 44,
      "outputs": [
        {
          "output_type": "stream",
          "name": "stdout",
          "text": [
            "Vectorization complete.\n",
            "Shape of Training Features (X_train): (130375, 5000)\n",
            "Shape of Testing Features (X_test): (32594, 5000)\n"
          ]
        }
      ]
    },
    {
      "cell_type": "markdown",
      "source": [
        "### **6. Model Training and Evaluation**\n",
        "\n",
        "We will train two distinct models to classify the sentiment:\n",
        "\n",
        "1.  **Multinomial Naive Bayes (MNB):** A simple, fast, and highly effective probabilistic model traditionally used as a strong baseline for text classification tasks.\n",
        "2.  **Support Vector Classifier (SVC):** A more powerful, complex model (often paired with a linear kernel for text data) to aim for higher accuracy and demonstrate the use of more sophisticated algorithms.\n",
        "\n",
        "We will evaluate both models using standard classification metrics, including **Accuracy** and the **Classification Report** (which provides Precision, Recall, and F1-score for each of the three sentiment classes)."
      ],
      "metadata": {
        "id": "kdpCilkm5SU2"
      }
    },
    {
      "cell_type": "code",
      "source": [
        "# Code Block 6: Train and Evaluate Models (Optimized for Speed)\n",
        "\n",
        "from sklearn.ensemble import RandomForestClassifier\n",
        "from sklearn.naive_bayes import MultinomialNB\n",
        "from sklearn.metrics import accuracy_score, classification_report\n",
        "from sklearn.svm import SVC\n",
        "\n",
        "# 1. Initialize and train the models\n",
        "mnb_model = MultinomialNB()\n",
        "rf_model = RandomForestClassifier(n_estimators=50, max_depth=15, n_jobs=-1, random_state=42) # Optimized for speed\n",
        "print(\"--- Training Models ---\")\n",
        "mnb_model.fit(X_train_vectorized, y_train)\n",
        "print(\"Trained Multinomial Naive Bayes (MNB) model.\")\n",
        "rf_model.fit(X_train_vectorized, y_train)\n",
        "print(\"Trained Optimized Random Forest (RF) model.\")\n",
        "\n",
        "\n",
        "# 2. Evaluate Models\n",
        "models = {\n",
        "    \"Multinomial Naive Bayes (MNB)\": mnb_model,\n",
        "    \"Optimized Random Forest (RF)\": rf_model,\n",
        "}\n",
        "for name, model in models.items():\n",
        "    y_pred = model.predict(X_test_vectorized)\n",
        "    accuracy = accuracy_score(y_test, y_pred)\n",
        "\n",
        "    print(f\"\\n============================================\")\n",
        "    print(f\"Model: {name}\")\n",
        "    print(f\"Accuracy: {accuracy:.4f}\")\n",
        "\n",
        "    # Print the full classification report\n",
        "    print(\"\\nClassification Report (Precision, Recall, F1-score):\")\n",
        "    print(classification_report(y_test, y_pred))\n",
        "    print(f\"============================================\")"
      ],
      "metadata": {
        "colab": {
          "base_uri": "https://localhost:8080/"
        },
        "id": "CicMMIJrEVxK",
        "outputId": "3d35c644-1fe7-4d4b-8e3b-322b7076eb98"
      },
      "execution_count": 45,
      "outputs": [
        {
          "output_type": "stream",
          "name": "stdout",
          "text": [
            "--- Training Models ---\n",
            "Trained Multinomial Naive Bayes (MNB) model.\n",
            "Trained Optimized Random Forest (RF) model.\n",
            "\n",
            "============================================\n",
            "Model: Multinomial Naive Bayes (MNB)\n",
            "Accuracy: 0.7317\n",
            "\n",
            "Classification Report (Precision, Recall, F1-score):\n",
            "              precision    recall  f1-score   support\n",
            "\n",
            "          -1       0.88      0.44      0.59      7102\n",
            "           0       0.83      0.66      0.74     11042\n",
            "           1       0.66      0.93      0.77     14450\n",
            "\n",
            "    accuracy                           0.73     32594\n",
            "   macro avg       0.79      0.68      0.70     32594\n",
            "weighted avg       0.77      0.73      0.72     32594\n",
            "\n",
            "============================================\n",
            "\n",
            "============================================\n",
            "Model: Optimized Random Forest (RF)\n",
            "Accuracy: 0.5766\n",
            "\n",
            "Classification Report (Precision, Recall, F1-score):\n",
            "              precision    recall  f1-score   support\n",
            "\n",
            "          -1       0.96      0.05      0.09      7102\n",
            "           0       0.82      0.41      0.55     11042\n",
            "           1       0.52      0.96      0.68     14450\n",
            "\n",
            "    accuracy                           0.58     32594\n",
            "   macro avg       0.77      0.47      0.44     32594\n",
            "weighted avg       0.72      0.58      0.51     32594\n",
            "\n",
            "============================================\n"
          ]
        }
      ]
    },
    {
      "cell_type": "markdown",
      "source": [
        "### **7. Data Visualization and Model Comparison**\n",
        "\n",
        "Visualization is key to interpreting results. We will visualize the final sentiment distribution and then create a table to compare the performance of our models based on key metrics (Accuracy and F1-Score). This comparison confirms the best solution for production deployment."
      ],
      "metadata": {
        "id": "85SVIAcLIlHZ"
      }
    },
    {
      "cell_type": "code",
      "source": [
        "# Code Block 7: Visualize Sentiment and Final Comparison\n",
        "\n",
        "# Import seaborn for plotting\n",
        "import seaborn as sns\n",
        "\n",
        "# 1. Visualize the final sentiment distribution\n",
        "plt.figure(figsize=(7, 5))\n",
        "sns.countplot(x='category', data=df_sentiment)\n",
        "plt.title('Final Sentiment Distribution (Positive, Neutral, Negative)')\n",
        "plt.xlabel('Sentiment Class (-1=Negative, 0=Neutral, 1=Positive)')\n",
        "plt.show()\n",
        "\n",
        "\n",
        "# 2. Extract and compare the key performance metric (F1-score for the overall model)\n",
        "# We calculate the macro-average F1-score which balances performance across all three classes.\n",
        "final_results = {}\n",
        "models_for_comparison = {\n",
        "    \"Multinomial Naive Bayes (MNB)\": mnb_model,\n",
        "    \"Optimized Random Forest (RF)\": rf_model\n",
        "}\n",
        "for name, model in models_for_comparison.items():\n",
        "    y_pred = model.predict(X_test_vectorized)\n",
        "    # Get the macro-average F1-score for balanced metric comparison\n",
        "    f1_score_macro = classification_report(y_test, y_pred, output_dict=True)['macro avg']['f1-score']\n",
        "    accuracy = accuracy_score(y_test, y_pred)\n",
        "\n",
        "    final_results[name] = {'Accuracy': accuracy, 'F1-Macro': f1_score_macro}\n",
        "\n",
        "comparison_df = pd.DataFrame(final_results).T\n",
        "\n",
        "# 3. Print Final Comparison\n",
        "print(\"\\n==============================================\")\n",
        "print(\"FINAL MODEL COMPARISON (Focus on Balanced F1-Score)\")\n",
        "print(comparison_df.sort_values(by='F1-Macro', ascending=False))\n",
        "print(\"==============================================\")"
      ],
      "metadata": {
        "colab": {
          "base_uri": "https://localhost:8080/",
          "height": 608
        },
        "id": "RWRRV51ZIqNM",
        "outputId": "98697129-3620-4d38-c285-a16d700591f7"
      },
      "execution_count": 58,
      "outputs": [
        {
          "output_type": "display_data",
          "data": {
            "text/plain": [
              "<Figure size 700x500 with 1 Axes>"
            ],
            "image/png": "[encoded data removed]"
          },
          "metadata": {}
        },
        {
          "output_type": "stream",
          "name": "stdout",
          "text": [
            "\n",
            "==============================================\n",
            "FINAL MODEL COMPARISON (Focus on Balanced F1-Score)\n",
            "                               Accuracy  F1-Macro\n",
            "Multinomial Naive Bayes (MNB)  0.731668  0.699480\n",
            "Optimized Random Forest (RF)   0.576609  0.438638\n",
            "==============================================\n"
          ]
        }
      ]
    },
    {
      "cell_type": "code",
      "source": [
        "# Code Block 8: Final Model Selection and Saving\n",
        "\n",
        "import pickle\n",
        "import os\n",
        "\n",
        "# --- CORRECT CHOICE: MNB was the best model (F1-Macro: 0.6995) ---\n",
        "best_model = mnb_model # Set the variable to the MNB model object\n",
        "model_name = 'MNB_Sentiment_Classifier.pkl' # Use a distinct name for MNB\n",
        "\n",
        "# 1. Define the path to save the model\n",
        "model_save_path = f'/content/{model_name}'\n",
        "\n",
        "# 2. Save the best model (MNB)\n",
        "with open(model_save_path, 'wb') as file:\n",
        "    pickle.dump(best_model, file)\n",
        "\n",
        "print(f\"Final Sentiment Model saved successfully to: {model_save_path}\")\n",
        "print(\"\\nModel saved and ready for download.\")"
      ],
      "metadata": {
        "colab": {
          "base_uri": "https://localhost:8080/"
        },
        "id": "NtHaM6EzOmwZ",
        "outputId": "2dbe37e7-cc79-4c2f-e226-32d96bc6d578"
      },
      "execution_count": 56,
      "outputs": [
        {
          "output_type": "stream",
          "name": "stdout",
          "text": [
            "Final Sentiment Model saved successfully to: /content/MNB_Sentiment_Classifier.pkl\n",
            "\n",
            "Model saved and ready for download.\n"
          ]
        }
      ]
    },
    {
      "cell_type": "code",
      "source": [
        "# Code Block: Download the Correct MNB Model\n",
        "\n",
        "from google.colab import files\n",
        "model_name = 'MNB_Sentiment_Classifier.pkl'\n",
        "model_path = f'/content/{model_name}'\n",
        "\n",
        "# Trigger the download prompt\n",
        "print(f\"Downloading the BEST model: {model_name}\")\n",
        "files.download(model_path)"
      ],
      "metadata": {
        "colab": {
          "base_uri": "https://localhost:8080/",
          "height": 34
        },
        "id": "w4NlyqQjOsj7",
        "outputId": "18ab2985-b403-4f97-e8b8-4d1862892d52"
      },
      "execution_count": 57,
      "outputs": [
        {
          "output_type": "stream",
          "name": "stdout",
          "text": [
            "Downloading the BEST model: MNB_Sentiment_Classifier.pkl\n"
          ]
        },
        {
          "output_type": "display_data",
          "data": {
            "text/plain": [
              "<IPython.core.display.Javascript object>"
            ],
            "application/javascript": [
              "\n",
              "    async function download(id, filename, size) {\n",
              "      if (!google.colab.kernel.accessAllowed) {\n",
              "        return;\n",
              "      }\n",
              "      const div = document.createElement('div');\n",
              "      const label = document.createElement('label');\n",
              "      label.textContent = `Downloading \"${filename}\": `;\n",
              "      div.appendChild(label);\n",
              "      const progress = document.createElement('progress');\n",
              "      progress.max = size;\n",
              "      div.appendChild(progress);\n",
              "      document.body.appendChild(div);\n",
              "\n",
              "      const buffers = [];\n",
              "      let downloaded = 0;\n",
              "\n",
              "      const channel = await google.colab.kernel.comms.open(id);\n",
              "      // Send a message to notify the kernel that we're ready.\n",
              "      channel.send({})\n",
              "\n",
              "      for await (const message of channel.messages) {\n",
              "        // Send a message to notify the kernel that we're ready.\n",
              "        channel.send({})\n",
              "        if (message.buffers) {\n",
              "          for (const buffer of message.buffers) {\n",
              "            buffers.push(buffer);\n",
              "            downloaded += buffer.byteLength;\n",
              "            progress.value = downloaded;\n",
              "          }\n",
              "        }\n",
              "      }\n",
              "      const blob = new Blob(buffers, {type: 'application/binary'});\n",
              "      const a = document.createElement('a');\n",
              "      a.href = window.URL.createObjectURL(blob);\n",
              "      a.download = filename;\n",
              "      div.appendChild(a);\n",
              "      a.click();\n",
              "      div.remove();\n",
              "    }\n",
              "  "
            ]
          },
          "metadata": {}
        },
        {
          "output_type": "display_data",
          "data": {
            "text/plain": [
              "<IPython.core.display.Javascript object>"
            ],
            "application/javascript": [
              "download(\"download_5a9c407f-7251-4baa-9adc-81e338c48851\", \"MNB_Sentiment_Classifier.pkl\", 240641)"
            ]
          },
          "metadata": {}
        }
      ]
    },
    {
      "cell_type": "markdown",
      "source": [
        "###  Project Summary, Best Model, and Next Steps**\n",
        "\n",
        "This project successfully applied the entire NLP pipeline—from raw text to multi-class classification—on noisy social media data.\n",
        "\n",
        "-   **Final Model:** Based on the Macro F1-Score (which ensures balanced performance across Positive, Negative, and Neutral classes), the **[BEST MODEL NAME]** provided the highest overall effectiveness.\n",
        "-   **Key Successes:** Successfully implemented and evaluated specialized NLP techniques including **Text Preprocessing** and **TF-IDF Vectorization** on unstructured text data.\n"
      ],
      "metadata": {
        "id": "BUVF5GQiL2Ak"
      }
    }
  ]
}